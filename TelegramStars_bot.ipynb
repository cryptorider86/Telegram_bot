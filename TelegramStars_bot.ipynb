{
  "cells": [
    {
      "cell_type": "code",
      "execution_count": 1,
      "metadata": {
        "colab": {
          "base_uri": "https://localhost:8080/"
        },
        "collapsed": true,
        "id": "JHsYQaA1HquE",
        "outputId": "3591855a-4dfe-4f6e-8cee-a736c909b5e0"
  
        }
      ],
      "source": [
        "!pip3 install python-telegram-bot\n",
        "!pip3 install requests"
      ]
    },
    {
      "cell_type": "code",
      "execution_count": 2,
      "metadata": {
        "id": "JJ-AuG6YKSJX"
      },
      "outputs": [],
      "source": [
        "import os"
      ]
    },
    {
      "cell_type": "code",
      "execution_count": 3,
      "metadata": {
        "colab": {
          "base_uri": "https://localhost:8080/"
        },
        "id": "A7yOmZm3KdnZ",
        "outputId": "de4a3798-2259-4ca4-c635-c4d995800dd6"
      },
      "outputs": [
        {
          "output_type": "stream",
          "name": "stdout",
          "text": [
            "8075882848:AAFB_tf6kw-oJfp-WWJ53zXCQgNn3LCMYR8\n"
          ]
        }
      ],
      "source": [
        "os.environ ['TELEGRAM_BOT_TOKEN'] = '......................",
        "print(os.getenv('TELEGRAM_BOT_TOKEN'))"
      ]
    },
    {
      "cell_type": "code",
      "execution_count": null,
      "metadata": {
        "colab": {
          "base_uri": "https://localhost:8080/"
        },
        "collapsed": true,
        "id": "............",
        "outputId": "fa153241-4c58-469e-b767-3276c2d89471"
      },
      "outputs": [
        {
          "metadata": {
            "tags": null
          },
          "name": "stdout",
          "output_type": "stream",
          "text": [
            "Requirement already satisfied: nest_asyncio in /usr/local/lib/python3.11/dist-packages (1.6.0)\n"
          ]
        }
      ],
      "source": [
        "# Устанавливаем nest_asyncio для работы с циклами событий в Colab\n",
        "!pip install nest_asyncio\n",
        "import nest_asyncio\n",
        "nest_asyncio.apply()\n",
        "\n",
        "from telegram import Update\n",
        "from telegram.ext import Application, CommandHandler, MessageHandler, filters, ContextTypes\n",
        "\n",
        "# Замени на свой токен\n",
        "TELEGRAM_BOT_TOKEN = '8075882848:AAFB_tf6kw-oJfp-WWJ53zXCQgNn3LCMYR8'\n",
        "\n",
        "# Обработчик команды /start\n",
        "async def start(update: Update, context: ContextTypes.DEFAULT_TYPE) -> None:\n",
        "    await update.message.reply_text('Привет! Хочешь поддержать меня? Отправь оплату в Telegram Stars (рекомендуем 50 Stars).')\n",
        "\n",
        "# Обработчик текстовых сообщений\n",
        "async def handle_message(update: Update, context: ContextTypes.DEFAULT_TYPE) -> None:\n",
        "    await update.message.reply_text('Спасибо за сообщение! Используй /start для начала.')\n",
        "\n",
        "def main() -> None:\n",
        "    # Создаем приложение бота\n",
        "    application = Application.builder().token(TELEGRAM_BOT_TOKEN).build()\n",
        "\n",
        "    # Регистрируем обработчики\n",
        "    application.add_handler(CommandHandler(\"start\", start))\n",
        "    application.add_handler(MessageHandler(filters.TEXT & ~filters.COMMAND, handle_message))\n",
        "\n",
        "    # Запускаем бота\n",
        "    application.run_polling()\n",
        "\n",
        "if __name__ == '__main__':\n",
        "    main()"
      ]
    },
    {
      "cell_type": "code",
      "execution_count": null,
      "metadata": {
        "collapsed": true,
        "id": "TGjqHtvdtcAy"
      },
      "outputs": [],
      "source": [
        "!pip install matplotlib-venn"
      ]
    },
    {
      "cell_type": "code",
      "execution_count": null,
      "metadata": {
        "id": "GaAmPdGauWDL"
      },
      "outputs": [],
      "source": [
        "!apt-get -qq install -y libfluidsynth1"
      ]
    },
    {
      "cell_type": "code",
      "execution_count": null,
      "metadata": {
        "collapsed": true,
        "id": "C5l9aGisucUI"
      },
      "outputs": [],
      "source": [
        "# https://pypi.python.org/pypi/libarchive\n",
        "!apt-get -qq install -y libarchive-dev && pip install -U libarchive\n",
        "import libarchive"
      ]
    },
    {
      "cell_type": "code",
      "execution_count": null,
      "metadata": {
        "id": "GfdSHYWWulDs"
      },
      "outputs": [],
      "source": [
        "# https://pypi.python.org/pypi/pydot\n",
        "!apt-get -qq install -y graphviz && pip install pydot\n",
        "import pydot"
      ]
    },
    {
      "cell_type": "code",
      "execution_count": null,
      "metadata": {
        "collapsed": true,
        "id": "_gj3LAFeupZf"
      },
      "outputs": [],
      "source": [
        "!pip install cartopy\n",
        "import cartopy"
      ]
    },
    {
      "cell_type": "code",
      "execution_count": null,
      "metadata": {
        "collapsed": true,
        "id": "Cd0338Mxuto1"
      },
      "outputs": [],
      "source": [
        "pip install libarchive"
      ]
    },
    {
      "cell_type": "code",
      "execution_count": null,
      "metadata": {
        "collapsed": true,
        "id": "brIrfyGV-j9P"
      },
      "outputs": [],
      "source": [
        "!pip install python-telegram-bot"
      ]
    },
    {
      "cell_type": "code",
      "execution_count": null,
      "metadata": {
        "id": "RlfxBjwR-kwD"
      },
      "outputs": [],
      "source": [
        "import telegram\n",
        "print(\"Библиотека установлена:\", telegram.__version__)"
      ]
    },
    {
      "cell_type": "code",
      "source": [
        "# Устанавливаем и применяем nest_asyncio\n",
        "!pip install nest_asyncio\n",
        "import nest_asyncio\n",
        "nest_asyncio.apply()\n",
        "\n",
        "import asyncio\n",
        "from telegram import Update, InlineKeyboardButton, InlineKeyboardMarkup\n",
        "from telegram.ext import Application, CommandHandler, MessageHandler, CallbackQueryHandler, filters, ContextTypes\n",
        "\n",
        "# ID Token\n",
        "TELEGRAM_BOT_TOKEN = '8075882848:AAFB_tf6kw-oJfp-WWJ53zXCQgNn3LCMYR8'\n",
        "\n",
        "# ID канала\n",
        "CHANNEL_ID = '5632340145'\n",
        "\n",
        "# Обработчик команды /start\n",
        "async def start(update: Update, context: ContextTypes.DEFAULT_TYPE) -> None:\n",
        "    # Создал инлайн-кнопки для выбора суммы\n",
        "    keyboard = [\n",
        "        [\n",
        "            InlineKeyboardButton(\"50 XTR\", callback_data='pay_50'),\n",
        "            InlineKeyboardButton(\"100 XTR\", callback_data='pay_100'),\n",
        "            InlineKeyboardButton(\"150 XTR\", callback_data='pay_150')\n",
        "        ]\n",
        "    ]\n",
        "    reply_markup = InlineKeyboardMarkup(keyboard)\n",
        "    await update.message.reply_text(\n",
        "        'Привет! Хочешь поддержать меня? Выбери сумму поддержки в Telegram Stars:',\n",
        "        reply_markup=reply_markup\n",
        "    )\n",
        "\n",
        "# Обработчик нажатия на кнопку\n",
        "async def button(update: Update, context: ContextTypes.DEFAULT_TYPE) -> None:\n",
        "    query = update.callback_query\n",
        "    await query.answer()\n",
        "    if query.data == 'pay_50':\n",
        "        context.user_data['amount'] = 50\n",
        "        await send_invoice(update, context, 50)\n",
        "    elif query.data == 'pay_100':\n",
        "        context.user_data['amount'] = 100\n",
        "        await send_invoice(update, context, 100)\n",
        "    elif query.data == 'pay_150':\n",
        "        context.user_data['amount'] = 150\n",
        "        await send_invoice(update, context, 150)\n",
        "\n",
        "# Функция отправки инвойса\n",
        "async def send_invoice(update: Update, context: ContextTypes.DEFAULT_TYPE, amount: int) -> None:\n",
        "    await context.bot.send_invoice(\n",
        "        chat_id=update.effective_chat.id,\n",
        "        title=\"Поддержка Психолога в шляпе\",\n",
        "        description=f\"Спасибо за поддержку! Донат {amount} Telegram Stars.\",\n",
        "        payload=f\"support_{amount}_stars\",\n",
        "        provider_token=\"\",  # Вот здесь надо указать номер провайдера платежей, который надо получить через @BotFather\n",
        "        currency=\"XTR\",  # Telegram Stars или можно эмодзи вставить\n",
        "        prices=[{\"label\": \"Донат\", \"amount\": amount}],\n",
        "        start_parameter=\"pay\"\n",
        "    )\n",
        "\n",
        "# Обработчик успешной оплаты\n",
        "async def successful_payment(update: Update, context: ContextTypes.DEFAULT_TYPE) -> None:\n",
        "    payment = update.message.successful_payment\n",
        "    amount = payment.total_amount\n",
        "    await update.message.reply_text(f'Спасибо за донат {amount} Stars! Ты молодец!')\n",
        "    await context.bot.send_message(chat_id=CHANNEL_ID, text=f'🎉 Пользователь {update.message.from_user.username} поддержал бота на {amount} Stars!')\n",
        "\n",
        "# Обработчик текстовых сообщений\n",
        "async def handle_message(update: Update, context: ContextTypes.DEFAULT_TYPE) -> None:\n",
        "    await update.message.reply_text('Спасибо за сообщение! Используй /start для начала.')\n",
        "\n",
        "async def main() -> None:\n",
        "    # Создаем приложение бота\n",
        "    application = Application.builder().token(TELEGRAM_BOT_TOKEN).build()\n",
        "\n",
        "    # Регистрируем обработчики\n",
        "    application.add_handler(CommandHandler(\"start\", start))\n",
        "    application.add_handler(CallbackQueryHandler(button))\n",
        "    application.add_handler(MessageHandler(filters.SUCCESSFUL_PAYMENT, successful_payment))\n",
        "    application.add_handler(MessageHandler(filters.TEXT & ~filters.COMMAND, handle_message))\n",
        "\n",
        "    # Запускаем бота в текущем цикле событий\n",
        "    await application.initialize()\n",
        "    await application.start()\n",
        "    await application.updater.start_polling()\n",
        "    print(\"Бот запущен...\")\n",
        "\n",
        "# Запускаем в текущем цикле событий\n",
        "if __name__ == '__main__':\n",
        "    loop = asyncio.get_event_loop()\n",
        "    loop.create_task(main())\n",
        "    loop.run_forever()"
      ],
      "metadata": {
        "id": "1l3l90KIabVm"
      },
      "execution_count": null,
      "outputs": []
    }
  ],
  "metadata": {
    "colab": {
      "provenance": [],
      "authorship_tag": "ABX9TyPMHqWAd3rFDA/VuSo+6vfL"
    },
    "kernelspec": {
      "display_name": "Python 3",
      "name": "python3"
    },
    "language_info": {
      "name": "python"
    }
  },
  "nbformat": 4,
  "nbformat_minor": 0
}
